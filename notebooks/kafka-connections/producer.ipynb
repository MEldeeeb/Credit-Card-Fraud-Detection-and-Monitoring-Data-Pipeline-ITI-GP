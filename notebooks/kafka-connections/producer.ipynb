{
 "cells": [
  {
   "cell_type": "code",
   "execution_count": 1,
   "id": "caaa153c-4af9-4918-982f-87cc540351e5",
   "metadata": {
    "execution": {
     "iopub.execute_input": "2025-08-11T17:17:41.038103Z",
     "iopub.status.busy": "2025-08-11T17:17:41.037840Z",
     "iopub.status.idle": "2025-08-11T17:17:41.324668Z",
     "shell.execute_reply": "2025-08-11T17:17:41.322455Z"
    },
    "papermill": {
     "duration": 0.316245,
     "end_time": "2025-08-11T17:17:41.335857",
     "exception": false,
     "start_time": "2025-08-11T17:17:41.019612",
     "status": "completed"
    },
    "tags": []
   },
   "outputs": [],
   "source": [
    "from kafka import KafkaProducer\n",
    "import csv\n",
    "import json\n",
    "import time\n",
    "from datetime import datetime\n",
    "import random"
   ]
  },
  {
   "cell_type": "code",
   "execution_count": 2,
   "id": "72a85651",
   "metadata": {
    "execution": {
     "iopub.execute_input": "2025-08-11T17:17:41.370239Z",
     "iopub.status.busy": "2025-08-11T17:17:41.367262Z",
     "iopub.status.idle": "2025-08-11T17:17:41.375660Z",
     "shell.execute_reply": "2025-08-11T17:17:41.373511Z"
    },
    "papermill": {
     "duration": 0.040567,
     "end_time": "2025-08-11T17:17:41.387543",
     "exception": false,
     "start_time": "2025-08-11T17:17:41.346976",
     "status": "completed"
    },
    "tags": []
   },
   "outputs": [],
   "source": [
    "# Kafka producer configuration\n",
    "topic_name = \"credit_card_trans\"\n",
    "bootstrap_servers = \"kafka_v2:9092\"\n",
    "csv_path = \"/opt/airflow/data/fraudTest.csv\" "
   ]
  },
  {
   "cell_type": "code",
   "execution_count": 3,
   "id": "23effe26-db01-46b7-81f7-019a7c144d79",
   "metadata": {
    "execution": {
     "iopub.execute_input": "2025-08-11T17:17:41.410660Z",
     "iopub.status.busy": "2025-08-11T17:17:41.410101Z",
     "iopub.status.idle": "2025-08-11T17:17:41.454688Z",
     "shell.execute_reply": "2025-08-11T17:17:41.452902Z"
    },
    "papermill": {
     "duration": 0.064317,
     "end_time": "2025-08-11T17:17:41.463885",
     "exception": false,
     "start_time": "2025-08-11T17:17:41.399568",
     "status": "completed"
    },
    "tags": []
   },
   "outputs": [],
   "source": [
    "# Create a Kafka producer instance\n",
    "producer = KafkaProducer(\n",
    "    bootstrap_servers=bootstrap_servers,\n",
    "    value_serializer=lambda v: json.dumps(v).encode(\"utf-8\")  \n",
    ")"
   ]
  },
  {
   "cell_type": "code",
   "execution_count": 4,
   "id": "f20e5240-8ccb-496f-9fbb-345767e950ac",
   "metadata": {
    "execution": {
     "iopub.execute_input": "2025-08-11T17:17:41.494399Z",
     "iopub.status.busy": "2025-08-11T17:17:41.494136Z",
     "iopub.status.idle": "2025-08-11T17:17:41.515722Z",
     "shell.execute_reply": "2025-08-11T17:17:41.513826Z"
    },
    "papermill": {
     "duration": 0.050175,
     "end_time": "2025-08-11T17:17:41.528261",
     "exception": false,
     "start_time": "2025-08-11T17:17:41.478086",
     "status": "completed"
    },
    "tags": []
   },
   "outputs": [],
   "source": [
    "# def stream_csv_rows(path):\n",
    "#     with open(path, newline='', encoding='utf-8') as csv_file:\n",
    "#             reader = csv.DictReader(csv_file)\n",
    "#             for row in reader:\n",
    "#                 row['event_time'] = datetime.now().strftime('%Y-%m-%d %H:%M:%S')\n",
    "#                 yield row\n",
    "#                 delay = random.randint(5, 10)\n",
    "#                 time.sleep(delay)\n",
    "\n",
    "# Save the last processed row number to a file\n",
    "def save_status(row_num) : \n",
    "    with open(\"/opt/airflow/data/state.json\", \"w\") as f:\n",
    "        json.dump({\"last_id\" : row_num}, f) \n",
    "\n",
    "# Load the last processed row number from a file\n",
    "def load_status():\n",
    "    try:\n",
    "        with open(\"/opt/airflow/data/state.json\", \"r\") as f:\n",
    "            state = json.load(f)\n",
    "            return state.get(\"last_id\", 0)\n",
    "    except FileNotFoundError:\n",
    "        return 0  \n",
    "    \n",
    "# Stream CSV rows with status tracking\n",
    "def stream_reader(path): \n",
    "    row_num = load_status()\n",
    "\n",
    "    with open(path, \"r\") as f:\n",
    "        reader = csv.DictReader(f)\n",
    "        for i, row in enumerate(reader):\n",
    "            if i < row_num:\n",
    "                continue  # Skip already processed rows\n",
    "            \n",
    "            row['event_time'] = datetime.now().strftime('%Y-%m-%d %H:%M:%S')\n",
    "            save_status(i + 1)\n",
    "            yield row\n",
    "\n",
    "            delay = random.randint(1, 3)\n",
    "            time.sleep(delay)\n",
    "    "
   ]
  },
  {
   "cell_type": "code",
   "execution_count": null,
   "id": "5e6c60ea-5695-4708-b351-80e400631f5a",
   "metadata": {
    "papermill": {
     "duration": null,
     "end_time": null,
     "exception": false,
     "start_time": "2025-08-11T17:17:41.535512",
     "status": "running"
    },
    "tags": []
   },
   "outputs": [],
   "source": [
    "# Main loop to produce messages\n",
    "try:\n",
    "    for i, row in enumerate(stream_reader(csv_path), 1):\n",
    "        producer.send(topic_name, value=row)\n",
    "        producer.flush()\n",
    "    print(f\"Produced message {i}: {row}\")\n",
    "except KeyboardInterrupt:\n",
    "    print(f\"Produced message {i}: {row}\")\n",
    "    print(\"Stopping producer ...\\nProducer stopped\")\n",
    "    \n",
    "finally:\n",
    "    producer.flush()\n",
    "    producer.close()\n",
    "    #admin_client.close()"
   ]
  },
  {
   "cell_type": "code",
   "execution_count": null,
   "id": "9183cffc-ce28-47c1-815f-5daf937f1f0a",
   "metadata": {
    "papermill": {
     "duration": null,
     "end_time": null,
     "exception": null,
     "start_time": null,
     "status": "pending"
    },
    "tags": []
   },
   "outputs": [],
   "source": [
    "# if you want to start from zero \n",
    "# save_status(0)\n",
    "# "
   ]
  },
  {
   "cell_type": "code",
   "execution_count": null,
   "id": "8f8fc02f-9844-4167-add3-304a0837ccca",
   "metadata": {
    "papermill": {
     "duration": null,
     "end_time": null,
     "exception": null,
     "start_time": null,
     "status": "pending"
    },
    "tags": []
   },
   "outputs": [],
   "source": [
    "{}"
   ]
  }
 ],
 "metadata": {
  "kernelspec": {
   "display_name": "Python 3 (ipykernel)",
   "language": "python",
   "name": "python3"
  },
  "language_info": {
   "codemirror_mode": {
    "name": "ipython",
    "version": 3
   },
   "file_extension": ".py",
   "mimetype": "text/x-python",
   "name": "python",
   "nbconvert_exporter": "python",
   "pygments_lexer": "ipython3",
   "version": "3.11.6"
  },
  "papermill": {
   "default_parameters": {},
   "duration": null,
   "end_time": null,
   "environment_variables": {},
   "exception": null,
   "input_path": "/home/jovyan/work/kafka-connections/producer.ipynb",
   "output_path": "/home/jovyan/work/kafka-connections/producer.ipynb",
   "parameters": {},
   "start_time": "2025-08-11T17:17:38.039003",
   "version": "2.6.0"
  }
 },
 "nbformat": 4,
 "nbformat_minor": 5
}