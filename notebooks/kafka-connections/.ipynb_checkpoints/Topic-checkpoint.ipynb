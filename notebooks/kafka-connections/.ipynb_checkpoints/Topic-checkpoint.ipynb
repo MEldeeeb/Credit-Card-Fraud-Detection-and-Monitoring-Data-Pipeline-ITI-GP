{
 "cells": [
  {
   "cell_type": "code",
   "execution_count": 1,
   "id": "8d510321-2af6-404c-a6e7-9d891e8e2e50",
   "metadata": {
    "papermill": {
     "duration": 1.777887,
     "end_time": "2025-08-09T15:55:55.631498",
     "exception": false,
     "start_time": "2025-08-09T15:55:53.853611",
     "status": "completed"
    },
    "tags": []
   },
   "outputs": [
    {
     "name": "stdout",
     "output_type": "stream",
     "text": [
      "Collecting kafka-python\n",
      "  Downloading kafka_python-2.2.15-py2.py3-none-any.whl.metadata (10.0 kB)\n",
      "Downloading kafka_python-2.2.15-py2.py3-none-any.whl (309 kB)\n",
      "\u001b[2K   \u001b[90m━━━━━━━━━━━━━━━━━━━━━━━━━━━━━━━━━━━━━━━━\u001b[0m \u001b[32m309.8/309.8 kB\u001b[0m \u001b[31m18.1 MB/s\u001b[0m eta \u001b[36m0:00:00\u001b[0m\n",
      "\u001b[?25hInstalling collected packages: kafka-python\n",
      "Successfully installed kafka-python-2.2.15\n"
     ]
    }
   ],
   "source": [
    "!pip install kafka-python\n",
    "from kafka import KafkaProducer\n",
    "from kafka.admin import KafkaAdminClient, NewTopic\n",
    "import csv\n",
    "import json\n",
    "import time\n",
    "from datetime import datetime\n"
   ]
  },
  {
   "cell_type": "code",
   "execution_count": 2,
   "id": "54a11938-bb10-4dfb-b47d-e9e041a0bd78",
   "metadata": {
    "papermill": {
     "duration": 0.006433,
     "end_time": "2025-08-09T15:55:55.639382",
     "exception": false,
     "start_time": "2025-08-09T15:55:55.632949",
     "status": "completed"
    },
    "tags": []
   },
   "outputs": [],
   "source": [
    "topic_name = \"credit_card_trans\"\n",
    "bootstrap_servers = \"kafka_v2:9092\"\n",
    "csv_path = \"fraudTest.csv\" "
   ]
  },
  {
   "cell_type": "code",
   "execution_count": 5,
   "id": "811dcaa9-6899-4885-80b0-b3b5a5a5d492",
   "metadata": {
    "papermill": {
     "duration": 0.015181,
     "end_time": "2025-08-09T15:55:55.655653",
     "exception": false,
     "start_time": "2025-08-09T15:55:55.640472",
     "status": "completed"
    },
    "tags": []
   },
   "outputs": [
    {
     "name": "stdout",
     "output_type": "stream",
     "text": [
      "Topic 'credit_card_trans' created.\n"
     ]
    }
   ],
   "source": [
    "admin_client = KafkaAdminClient(bootstrap_servers=bootstrap_servers, client_id='credit_card_trans')\n",
    "topics = admin_client.list_topics()\n",
    "\n",
    "if topic_name not in topics:\n",
    "    topic = NewTopic(name=topic_name, num_partitions=1, replication_factor=1)\n",
    "    admin_client.create_topics(new_topics=[topic])\n",
    "    print(f\"Topic '{topic_name}' created.\")\n",
    "else:\n",
    "    print(f\"Topic '{topic_name}' already exists.\")"
   ]
  },
  {
   "cell_type": "code",
   "execution_count": 4,
   "id": "642da485-a8fe-4aff-b2f6-5089075a76b0",
   "metadata": {
    "papermill": {
     "duration": 0.02478,
     "end_time": "2025-08-09T15:55:55.681503",
     "exception": false,
     "start_time": "2025-08-09T15:55:55.656723",
     "status": "completed"
    },
    "tags": []
   },
   "outputs": [
    {
     "data": {
      "text/plain": [
       "DeleteTopicsResponse_v3(throttle_time_ms=0, topic_error_codes=[(topic='credit_card_trans', error_code=0)])"
      ]
     },
     "execution_count": 4,
     "metadata": {},
     "output_type": "execute_result"
    }
   ],
   "source": [
    "admin_client.delete_topics([\"credit_card_trans\"])"
   ]
  },
  {
   "cell_type": "code",
   "execution_count": null,
   "id": "ed8c2f88-6270-4e9d-b43f-c556ff468770",
   "metadata": {
    "papermill": {
     "duration": 0.001037,
     "end_time": "2025-08-09T15:55:55.683850",
     "exception": false,
     "start_time": "2025-08-09T15:55:55.682813",
     "status": "completed"
    },
    "tags": []
   },
   "outputs": [],
   "source": []
  }
 ],
 "metadata": {
  "kernelspec": {
   "display_name": "Python 3 (ipykernel)",
   "language": "python",
   "name": "python3"
  },
  "language_info": {
   "codemirror_mode": {
    "name": "ipython",
    "version": 3
   },
   "file_extension": ".py",
   "mimetype": "text/x-python",
   "name": "python",
   "nbconvert_exporter": "python",
   "pygments_lexer": "ipython3",
   "version": "3.11.6"
  },
  "papermill": {
   "default_parameters": {},
   "duration": 3.492074,
   "end_time": "2025-08-09T15:55:55.902700",
   "environment_variables": {},
   "exception": null,
   "input_path": "/home/jovyan/work/kafka-connections/Topic.ipynb",
   "output_path": "/home/jovyan/work/kafka-connections/Topic.ipynb",
   "parameters": {},
   "start_time": "2025-08-09T15:55:52.410626",
   "version": "2.6.0"
  }
 },
 "nbformat": 4,
 "nbformat_minor": 5
}
