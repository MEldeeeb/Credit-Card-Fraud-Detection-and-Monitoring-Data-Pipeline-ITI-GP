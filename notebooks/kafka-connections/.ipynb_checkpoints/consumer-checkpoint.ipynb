{
 "cells": [
  {
   "cell_type": "code",
   "execution_count": 1,
   "id": "0c82eb22-076b-4fdd-97f8-e565b441d3a6",
   "metadata": {},
   "outputs": [],
   "source": [
    "from kafka import KafkaConsumer"
   ]
  },
  {
   "cell_type": "code",
   "execution_count": null,
   "id": "4b56e59a-c451-453c-827a-e3d9de90c47a",
   "metadata": {},
   "outputs": [
    {
     "name": "stdout",
     "output_type": "stream",
     "text": [
      "{\"\": \"16\", \"trans_date_trans_time\": \"2020-06-21 12:18:54\", \"cc_num\": \"4906628655840914250\", \"merchant\": \"fraud_Hickle Group\", \"category\": \"shopping_pos\", \"amt\": \"2.33\", \"first\": \"Charles\", \"last\": \"Moreno\", \"gender\": \"M\", \"street\": \"838 Franklin Prairie Apt. 902\", \"city\": \"Key West\", \"state\": \"FL\", \"zip\": \"33040\", \"lat\": \"24.6557\", \"long\": \"-81.3824\", \"city_pop\": \"32891\", \"job\": \"Town planner\", \"dob\": \"1987-02-13\", \"trans_num\": \"00da72495351ce6bd9ecb75d51cca89b\", \"unix_time\": \"1371817134\", \"merch_lat\": \"24.306325\", \"merch_long\": \"-81.065169\", \"is_fraud\": \"0\", \"event_time\": \"2025-07-24T13:45:23.028205\"}\n",
      "{\"\": \"17\", \"trans_date_trans_time\": \"2020-06-21 12:19:50\", \"cc_num\": \"4908846471916297\", \"merchant\": \"fraud_Lang, Towne and Schuppe\", \"category\": \"kids_pets\", \"amt\": \"16.6\", \"first\": \"Lauren\", \"last\": \"Torres\", \"gender\": \"F\", \"street\": \"03030 White Lakes\", \"city\": \"Grandview\", \"state\": \"TX\", \"zip\": \"76050\", \"lat\": \"32.2779\", \"long\": \"-97.2351\", \"city_pop\": \"5875\", \"job\": \"Radiographer, therapeutic\", \"dob\": \"1992-07-24\", \"trans_num\": \"67288141e8206f6f49706c1cef5b75d3\", \"unix_time\": \"1371817190\", \"merch_lat\": \"33.182349\", \"merch_long\": \"-97.91928399999999\", \"is_fraud\": \"0\", \"event_time\": \"2025-07-24T13:45:32.038139\"}\n",
      "{\"\": \"18\", \"trans_date_trans_time\": \"2020-06-21 12:19:56\", \"cc_num\": \"4861310130652566408\", \"merchant\": \"fraud_Morissette LLC\", \"category\": \"entertainment\", \"amt\": \"80.11\", \"first\": \"Ashley\", \"last\": \"Cruz\", \"gender\": \"F\", \"street\": \"65417 Walsh Radial Suite 691\", \"city\": \"Saint Amant\", \"state\": \"LA\", \"zip\": \"70774\", \"lat\": \"30.2385\", \"long\": \"-90.8435\", \"city_pop\": \"10076\", \"job\": \"Surveyor, rural practice\", \"dob\": \"1977-12-16\", \"trans_num\": \"71bb6ee81f9af4d2a38bf6af2b614708\", \"unix_time\": \"1371817196\", \"merch_lat\": \"30.449990000000003\", \"merch_long\": \"-89.930996\", \"is_fraud\": \"0\", \"event_time\": \"2025-07-24T13:45:42.046684\"}\n",
      "{\"\": \"19\", \"trans_date_trans_time\": \"2020-06-21 12:20:13\", \"cc_num\": \"6538441737335434\", \"merchant\": \"fraud_Prosacco LLC\", \"category\": \"personal_care\", \"amt\": \"5.71\", \"first\": \"Gina\", \"last\": \"Grimes\", \"gender\": \"F\", \"street\": \"444 Robert Mews\", \"city\": \"Clarks Mills\", \"state\": \"PA\", \"zip\": \"16114\", \"lat\": \"41.3851\", \"long\": \"-80.1752\", \"city_pop\": \"606\", \"job\": \"Energy manager\", \"dob\": \"1997-09-22\", \"trans_num\": \"2d7640ea4f3bcd520a3c33200c393dd8\", \"unix_time\": \"1371817213\", \"merch_lat\": \"40.508064000000005\", \"merch_long\": \"-79.615158\", \"is_fraud\": \"0\", \"event_time\": \"2025-07-24T13:45:48.055306\"}\n",
      "{\"\": \"20\", \"trans_date_trans_time\": \"2020-06-21 12:20:34\", \"cc_num\": \"2283743876903625\", \"merchant\": \"fraud_Corwin-Romaguera\", \"category\": \"travel\", \"amt\": \"8.53\", \"first\": \"Shannon\", \"last\": \"Williams\", \"gender\": \"F\", \"street\": \"9345 Spencer Junctions Suite 183\", \"city\": \"Alpharetta\", \"state\": \"GA\", \"zip\": \"30009\", \"lat\": \"34.077\", \"long\": \"-84.3033\", \"city_pop\": \"165556\", \"job\": \"Prison officer\", \"dob\": \"1997-12-27\", \"trans_num\": \"1650f4f052cc85af7bd417fa17d59ac5\", \"unix_time\": \"1371817234\", \"merch_lat\": \"33.195225\", \"merch_long\": \"-84.11908299999999\", \"is_fraud\": \"0\", \"event_time\": \"2025-07-24T13:45:56.916355\"}\n",
      "{\"\": \"0\", \"trans_date_trans_time\": \"2020-06-21 12:14:25\", \"cc_num\": \"2291163933867244\", \"merchant\": \"fraud_Kirlin and Sons\", \"category\": \"personal_care\", \"amt\": \"2.86\", \"first\": \"Jeff\", \"last\": \"Elliott\", \"gender\": \"M\", \"street\": \"351 Darlene Green\", \"city\": \"Columbia\", \"state\": \"SC\", \"zip\": \"29209\", \"lat\": \"33.9659\", \"long\": \"-80.9355\", \"city_pop\": \"333497\", \"job\": \"Mechanical engineer\", \"dob\": \"1968-03-19\", \"trans_num\": \"2da90c7d74bd46a0caf3777415b3ebd3\", \"unix_time\": \"1371816865\", \"merch_lat\": \"33.986391\", \"merch_long\": \"-81.200714\", \"is_fraud\": \"0\", \"event_time\": \"2025-07-24T13:47:21.697625\"}\n",
      "{\"\": \"1\", \"trans_date_trans_time\": \"2020-06-21 12:14:33\", \"cc_num\": \"3573030041201292\", \"merchant\": \"fraud_Sporer-Keebler\", \"category\": \"personal_care\", \"amt\": \"29.84\", \"first\": \"Joanne\", \"last\": \"Williams\", \"gender\": \"F\", \"street\": \"3638 Marsh Union\", \"city\": \"Altonah\", \"state\": \"UT\", \"zip\": \"84002\", \"lat\": \"40.3207\", \"long\": \"-110.436\", \"city_pop\": \"302\", \"job\": \"Sales professional, IT\", \"dob\": \"1990-01-17\", \"trans_num\": \"324cc204407e99f51b0d6ca0055005e7\", \"unix_time\": \"1371816873\", \"merch_lat\": \"39.450497999999996\", \"merch_long\": \"-109.960431\", \"is_fraud\": \"0\", \"event_time\": \"2025-07-24T13:47:29.572093\"}\n"
     ]
    }
   ],
   "source": [
    "try:\n",
    "    consumer = KafkaConsumer(        \n",
    "        \"credit_card_trans\",\n",
    "        bootstrap_servers='kafka_v2:9092',\n",
    "        auto_offset_reset='earliest',  # Start from the beginning if no offset is committed\n",
    "        enable_auto_commit=True,       # Commit offsets automatically\n",
    "        group_id=\"my-consumer-group\"   # Required for offset tracking\n",
    "    )\n",
    "    \n",
    "    for msg in consumer:\n",
    "            message_str = msg.value.decode(\"utf-8\")\n",
    "            print(message_str)\n",
    "except KeyboardInterrupt:\n",
    "    print(\"stopping consumer\")"
   ]
  },
  {
   "cell_type": "code",
   "execution_count": null,
   "id": "5da27b2b-6b6c-4230-85f0-4654d197e446",
   "metadata": {},
   "outputs": [],
   "source": []
  }
 ],
 "metadata": {
  "kernelspec": {
   "display_name": "Python 3 (ipykernel)",
   "language": "python",
   "name": "python3"
  },
  "language_info": {
   "codemirror_mode": {
    "name": "ipython",
    "version": 3
   },
   "file_extension": ".py",
   "mimetype": "text/x-python",
   "name": "python",
   "nbconvert_exporter": "python",
   "pygments_lexer": "ipython3",
   "version": "3.11.6"
  }
 },
 "nbformat": 4,
 "nbformat_minor": 5
}
