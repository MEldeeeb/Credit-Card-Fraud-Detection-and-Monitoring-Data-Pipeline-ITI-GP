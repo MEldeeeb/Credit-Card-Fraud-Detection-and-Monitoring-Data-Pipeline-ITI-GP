{
 "cells": [
  {
   "cell_type": "code",
   "execution_count": 13,
   "id": "179de0f2-1103-48cd-a328-13b1111b1ef3",
   "metadata": {},
   "outputs": [],
   "source": [
    "import pandas as pd\n",
    "from sklearn.preprocessing import OneHotEncoder\n",
    "from sklearn.compose import ColumnTransformer\n",
    "from sklearn.pipeline import Pipeline\n",
    "from sklearn.model_selection import train_test_split\n",
    "import numpy as np\n",
    "import math\n",
    "from hdfs import InsecureClient\n",
    "import pandas as pd\n",
    "from io import BytesIO\n",
    "\n",
    "def haversine(lat, long, merch_lat, merch_long):\n",
    "    R = 6371.0  # Earth radius in kilometers\n",
    "\n",
    "    # Convert degrees to radians\n",
    "    lat1_rad = math.radians(lat)\n",
    "    lon1_rad = math.radians(long)\n",
    "    lat2_rad = math.radians(merch_lat)\n",
    "    lon2_rad = math.radians(merch_long)\n",
    "\n",
    "    dlat = lat2_rad - lat1_rad\n",
    "    dlon = lon2_rad - lon1_rad\n",
    "\n",
    "    a = math.sin(dlat / 2) ** 2 + \\\n",
    "        math.cos(lat1_rad) * math.cos(lat2_rad) * \\\n",
    "        math.sin(dlon / 2) ** 2\n",
    "    c = 2 * math.atan2(math.sqrt(a), math.sqrt(1 - a))\n",
    "\n",
    "    distance = R * c\n",
    "    return distance\n",
    "\n"
   ]
  },
  {
   "cell_type": "code",
   "execution_count": null,
   "id": "34ef81fc-175f-4b24-abaf-f576ea9437d8",
   "metadata": {},
   "outputs": [],
   "source": [
    "client = InsecureClient('http://hadoop-namenode:9870', user='root')\n",
    "with client.read('/data') as reader:\n",
    "    df = pd.read_csv(reader)"
   ]
  },
  {
   "cell_type": "code",
   "execution_count": null,
   "id": "825904dc-87ac-41d0-b2b3-ac1573a05324",
   "metadata": {},
   "outputs": [],
   "source": [
    "current_date = pd.Timestamp('today').normalize()\n",
    "df['dob'] = pd.to_datetime(df['dob'])\n",
    "df['age'] = ((current_date - df['dob']).dt.days / 365.25).astype(int)\n",
    "df['distance'] = df.apply(lambda row: haversine(row['lat'], row['long'], row['merch_lat'], row['merch_long']), axis=1)\n",
    "\n",
    "df = df.drop(columns=[\"Unnamed: 0\", \"trans_date_trans_time\", \"trans_num\", \"dob\", \"unix_time\",\"lat\",\"long\",\"merch_lat\",\"merch_long\"])\n",
    "\n",
    "\n",
    "\n",
    "# Separate features and target\n",
    "X = df.drop(columns=[\"is_fraud\"])\n",
    "y = df[\"is_fraud\"]\n",
    "\n",
    "# Detect categorical and numeric columns\n",
    "categorical_cols = X.select_dtypes(include=[\"object\"]).columns.tolist()\n",
    "numeric_cols = X.select_dtypes(include=[np.number]).columns.tolist()"
   ]
  },
  {
   "cell_type": "code",
   "execution_count": 14,
   "id": "6b4fc18a-f574-42e2-83d3-1ab5d35c5024",
   "metadata": {},
   "outputs": [
    {
     "data": {
      "text/plain": [
       "(['merchant',\n",
       "  'category',\n",
       "  'first',\n",
       "  'last',\n",
       "  'gender',\n",
       "  'street',\n",
       "  'city',\n",
       "  'state',\n",
       "  'job'],\n",
       " ['cc_num', 'amt', 'zip', 'city_pop', 'age', 'distance'])"
      ]
     },
     "execution_count": 14,
     "metadata": {},
     "output_type": "execute_result"
    }
   ],
   "source": [
    "categorical_cols,numeric_cols"
   ]
  },
  {
   "cell_type": "code",
   "execution_count": 21,
   "id": "baa00959-473b-45e2-b301-28d779f204f4",
   "metadata": {},
   "outputs": [
    {
     "name": "stderr",
     "output_type": "stream",
     "text": [
      "C:\\Users\\FreeComp\\anaconda3\\Lib\\site-packages\\xgboost\\training.py:183: UserWarning: [01:30:13] WARNING: C:\\actions-runner\\_work\\xgboost\\xgboost\\src\\learner.cc:738: \n",
      "Parameters: { \"use_label_encoder\" } are not used.\n",
      "\n",
      "  bst.update(dtrain, iteration=i, fobj=obj)\n"
     ]
    },
    {
     "name": "stdout",
     "output_type": "stream",
     "text": [
      "Train score: 0.9908402031809477\n",
      "Test score: 0.968031968031968\n"
     ]
    }
   ],
   "source": [
    "from imblearn.under_sampling import RandomUnderSampler\n",
    "preprocessor = ColumnTransformer(\n",
    "    transformers=[\n",
    "        (\"cat\", OneHotEncoder(handle_unknown=\"ignore\"), categorical_cols),\n",
    "        (\"num\", \"passthrough\", numeric_cols)\n",
    "    ]\n",
    ")\n",
    "\n",
    "# Example: create pipeline for training with XGBoost\n",
    "from xgboost import XGBClassifier\n",
    "\n",
    "model = Pipeline(steps=[\n",
    "    (\"preprocessor\", preprocessor),\n",
    "    (\"classifier\", XGBClassifier(\n",
    "        use_label_encoder=False,\n",
    "        eval_metric=\"logloss\",\n",
    "        random_state=42\n",
    "    ))\n",
    "])\n",
    "sampler = RandomUnderSampler(random_state=42)\n",
    "X_resampled, y_resampled = sampler.fit_resample(X, y)\n",
    "\n",
    "# Train/test split\n",
    "X_train, X_test, y_train, y_test = train_test_split(X_resampled, y_resampled, test_size=0.2, random_state=42, stratify=y_resampled)\n",
    "\n",
    "# Fit model\n",
    "model.fit(X_train, y_train)\n",
    "\n",
    "# Evaluate quickly\n",
    "print(\"Train score:\", model.score(X_train, y_train))\n",
    "print(\"Test score:\", model.score(X_test, y_test))"
   ]
  },
  {
   "cell_type": "code",
   "execution_count": 22,
   "id": "3b7f8992-1dd4-45e5-b2bc-ca45aee96278",
   "metadata": {},
   "outputs": [
    {
     "name": "stdout",
     "output_type": "stream",
     "text": [
      "Train precision: 0.9885629040278469\n",
      "Train recall: 0.9931723563696919\n",
      "Test precision: 0.9649238914626076\n",
      "Test recall: 0.9713524317121919\n"
     ]
    }
   ],
   "source": [
    "from sklearn.metrics import precision_score, recall_score\n",
    "y_train_pred = model.predict(X_train)\n",
    "y_test_pred = model.predict(X_test)\n",
    "print(\"Train precision:\", precision_score(y_train, y_train_pred))\n",
    "print(\"Train recall:\", recall_score(y_train, y_train_pred))\n",
    "\n",
    "print(\"Test precision:\", precision_score(y_test, y_test_pred))\n",
    "print(\"Test recall:\", recall_score(y_test, y_test_pred))"
   ]
  },
  {
   "cell_type": "code",
   "execution_count": 23,
   "id": "b32900f0-9570-4e32-a14e-396a4a5d4842",
   "metadata": {},
   "outputs": [
    {
     "data": {
      "text/plain": [
       "['pipeline_xgb.pkl']"
      ]
     },
     "execution_count": 23,
     "metadata": {},
     "output_type": "execute_result"
    }
   ],
   "source": [
    "import joblib\n",
    "\n",
    "# Save\n",
    "joblib.dump(model, \"pipeline_xgb.pkl\")\n",
    "\n",
    "# # Load\n",
    "# loaded_model = joblib.load(\"pipeline_xgb.pkl\")\n",
    "\n",
    "# # Predict\n",
    "# loaded_model.predict(new_data)"
   ]
  },
  {
   "cell_type": "code",
   "execution_count": null,
   "id": "aeee0c37-461a-4345-93a6-1f735cb5aa7c",
   "metadata": {},
   "outputs": [],
   "source": []
  }
 ],
 "metadata": {
  "kernelspec": {
   "display_name": "Python 3 (ipykernel)",
   "language": "python",
   "name": "python3"
  },
  "language_info": {
   "codemirror_mode": {
    "name": "ipython",
    "version": 3
   },
   "file_extension": ".py",
   "mimetype": "text/x-python",
   "name": "python",
   "nbconvert_exporter": "python",
   "pygments_lexer": "ipython3",
   "version": "3.11.6"
  }
 },
 "nbformat": 4,
 "nbformat_minor": 5
}
