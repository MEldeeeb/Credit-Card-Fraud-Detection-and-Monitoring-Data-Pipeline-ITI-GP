{
 "cells": [
  {
   "cell_type": "code",
   "execution_count": 26,
   "id": "c9f998c1-7659-4197-b2cb-ff02f3482a20",
   "metadata": {},
   "outputs": [],
   "source": [
    "import joblib\n",
    "import pandas as pd \n",
    "import numpy as np \n",
    "import math\n",
    "# Load\n",
    "\n",
    "loaded_model = joblib.load(\"pipeline_xgb.pkl\")\n",
    "def haversine(lat, long, merch_lat, merch_long):\n",
    "    R = 6371.0  # Earth radius in kilometers\n",
    "\n",
    "    # Convert degrees to radians\n",
    "    lat1_rad = math.radians(lat)\n",
    "    lon1_rad = math.radians(long)\n",
    "    lat2_rad = math.radians(merch_lat)\n",
    "    lon2_rad = math.radians(merch_long)\n",
    "\n",
    "    dlat = lat2_rad - lat1_rad\n",
    "    dlon = lon2_rad - lon1_rad\n",
    "\n",
    "    a = math.sin(dlat / 2) ** 2 + \\\n",
    "        math.cos(lat1_rad) * math.cos(lat2_rad) * \\\n",
    "        math.sin(dlon / 2) ** 2\n",
    "    c = 2 * math.atan2(math.sqrt(a), math.sqrt(1 - a))\n",
    "\n",
    "    distance = R * c\n",
    "    return distance\n",
    "# Predict\n"
   ]
  },
  {
   "cell_type": "code",
   "execution_count": 21,
   "id": "392791b9-ab26-453d-9ded-fc6fa5261b32",
   "metadata": {},
   "outputs": [],
   "source": [
    "df =pd.read_csv(r\"D:\\ITI\\final_project\\real_dataset\\fraudTrain.csv\")\n",
    "\n"
   ]
  },
  {
   "cell_type": "code",
   "execution_count": 27,
   "id": "ef13eff3-4b49-4e0f-af91-06750fda43e9",
   "metadata": {},
   "outputs": [],
   "source": [
    "current_date = pd.Timestamp('today').normalize()\n",
    "df['dob'] = pd.to_datetime(df['dob'])\n",
    "df['age'] = ((current_date - df['dob']).dt.days / 365.25).astype(int)\n",
    "df['distance'] = df.apply(lambda row: haversine(row['lat'], row['long'], row['merch_lat'], row['merch_long']), axis=1)\n",
    "\n",
    "one_raw_data = df.iloc[1 , :]\n",
    "raw = one_raw_data.drop([\"Unnamed: 0\", \"trans_date_trans_time\", \"trans_num\", \"dob\", \"unix_time\", \"lat\", \"long\", \"merch_lat\", \"merch_long\"])"
   ]
  },
  {
   "cell_type": "code",
   "execution_count": 32,
   "id": "67365dcc-8463-4427-aa7d-4150c6adeec5",
   "metadata": {},
   "outputs": [],
   "source": [
    "input_df = pd.DataFrame([raw])\n"
   ]
  },
  {
   "cell_type": "code",
   "execution_count": 34,
   "id": "fa93a0de-5726-4f1e-95df-05ea9860b460",
   "metadata": {},
   "outputs": [
    {
     "data": {
      "text/plain": [
       "array([0])"
      ]
     },
     "execution_count": 34,
     "metadata": {},
     "output_type": "execute_result"
    }
   ],
   "source": [
    "loaded_model.predict(input_df)"
   ]
  },
  {
   "cell_type": "code",
   "execution_count": null,
   "id": "70990a26-02e0-46c7-8d69-9e6244d7fc26",
   "metadata": {},
   "outputs": [],
   "source": []
  },
  {
   "cell_type": "code",
   "execution_count": null,
   "id": "183602af-663b-4c8e-9077-da001ece9d32",
   "metadata": {},
   "outputs": [],
   "source": []
  },
  {
   "cell_type": "code",
   "execution_count": null,
   "id": "59d45d44-5fff-420e-939c-5d9997282a5d",
   "metadata": {},
   "outputs": [],
   "source": []
  }
 ],
 "metadata": {
  "kernelspec": {
   "display_name": "Python [conda env:base] *",
   "language": "python",
   "name": "conda-base-py"
  },
  "language_info": {
   "codemirror_mode": {
    "name": "ipython",
    "version": 3
   },
   "file_extension": ".py",
   "mimetype": "text/x-python",
   "name": "python",
   "nbconvert_exporter": "python",
   "pygments_lexer": "ipython3",
   "version": "3.13.5"
  }
 },
 "nbformat": 4,
 "nbformat_minor": 5
}
