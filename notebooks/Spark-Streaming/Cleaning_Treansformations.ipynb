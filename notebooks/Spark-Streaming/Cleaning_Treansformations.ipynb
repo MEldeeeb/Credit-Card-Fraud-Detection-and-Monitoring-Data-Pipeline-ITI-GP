{
 "cells": [
  {
   "cell_type": "code",
   "execution_count": 71,
   "id": "cc05834d-480c-4e11-b8ee-4f9127966d8a",
   "metadata": {
    "papermill": {
     "duration": 1.262978,
     "end_time": "2025-08-11T17:17:43.036505",
     "exception": false,
     "start_time": "2025-08-11T17:17:41.773527",
     "status": "completed"
    },
    "tags": []
   },
   "outputs": [],
   "source": [
    "from pyspark.sql import SparkSession\n",
    "from pyspark.sql.functions import *\n",
    "from pyspark.sql.types import *\n",
    "import pandas as pd \n",
    "import numpy as np\n",
    "import math\n",
    "import joblib"
   ]
  },
  {
   "cell_type": "code",
   "execution_count": 72,
   "id": "cb10dc90-8383-4681-808d-9f06c53d0819",
   "metadata": {
    "papermill": {
     "duration": 10.692616,
     "end_time": "2025-08-11T17:17:53.736778",
     "exception": false,
     "start_time": "2025-08-11T17:17:43.044162",
     "status": "completed"
    },
    "tags": []
   },
   "outputs": [],
   "source": [
    "spark = SparkSession.builder \\\n",
    "    .appName(\"KafkaStreamReader\") \\\n",
    "    .config(\"spark.streaming.stopGracefullyOnShutdown\", True) \\\n",
    "    .config('spark.jars.packages', 'org.apache.spark:spark-sql-kafka-0-10_2.12:3.5.0') \\\n",
    "    .config(\"spark.sql.shuffle.partitions\", 4) \\\n",
    "    .getOrCreate()"
   ]
  },
  {
   "cell_type": "code",
   "execution_count": 73,
   "id": "b490b0c8-624c-4a3c-a242-061f56c4afd8",
   "metadata": {
    "papermill": {
     "duration": 3.175432,
     "end_time": "2025-08-11T17:17:56.920787",
     "exception": false,
     "start_time": "2025-08-11T17:17:53.745355",
     "status": "completed"
    },
    "tags": []
   },
   "outputs": [],
   "source": [
    "kafka_df  = spark.readStream \\\n",
    "    .format(\"kafka\") \\\n",
    "    .option(\"kafka.bootstrap.servers\", \"kafka_v2:9092\") \\\n",
    "    .option(\"subscribe\", \"credit_card_trans\") \\\n",
    "    .option(\"startingOffsets\", \"latest\") \\\n",
    "    .option(\"failOnDataLoss\", \"false\") \\\n",
    "    .load()"
   ]
  },
  {
   "cell_type": "code",
   "execution_count": 74,
   "id": "9aad5e42-b6ec-4bdf-b2e7-2b19e5328050",
   "metadata": {
    "papermill": {
     "duration": 0.116115,
     "end_time": "2025-08-11T17:17:57.056905",
     "exception": false,
     "start_time": "2025-08-11T17:17:56.940790",
     "status": "completed"
    },
    "tags": []
   },
   "outputs": [
    {
     "name": "stdout",
     "output_type": "stream",
     "text": [
      "root\n",
      " |-- key: binary (nullable = true)\n",
      " |-- value: binary (nullable = true)\n",
      " |-- topic: string (nullable = true)\n",
      " |-- partition: integer (nullable = true)\n",
      " |-- offset: long (nullable = true)\n",
      " |-- timestamp: timestamp (nullable = true)\n",
      " |-- timestampType: integer (nullable = true)\n",
      "\n"
     ]
    }
   ],
   "source": [
    "kafka_df.printSchema()"
   ]
  },
  {
   "cell_type": "markdown",
   "id": "056dc03c-ca73-45da-aaa7-52c25605ac61",
   "metadata": {},
   "source": [
    "# Extracting"
   ]
  },
  {
   "cell_type": "code",
   "execution_count": 75,
   "id": "eb251f21-01e1-4676-aa95-ce825f696990",
   "metadata": {
    "papermill": {
     "duration": 0.317212,
     "end_time": "2025-08-11T17:17:57.399723",
     "exception": false,
     "start_time": "2025-08-11T17:17:57.082511",
     "status": "completed"
    },
    "tags": []
   },
   "outputs": [],
   "source": [
    "# Kafka message is in binary, so cast it to string\n",
    "value_df = kafka_df.selectExpr(\"CAST(value AS STRING) as json_str\")"
   ]
  },
  {
   "cell_type": "code",
   "execution_count": 76,
   "id": "e64b5d20-a5ff-4db1-aac7-3505021e92e1",
   "metadata": {
    "papermill": {
     "duration": 0.030062,
     "end_time": "2025-08-11T17:17:57.446524",
     "exception": false,
     "start_time": "2025-08-11T17:17:57.416462",
     "status": "completed"
    },
    "tags": []
   },
   "outputs": [],
   "source": [
    "schema = StructType([\n",
    "    StructField(\"\", StringType(), True),\n",
    "    StructField(\"trans_date_trans_time\", StringType(), True),\n",
    "    StructField(\"cc_num\", StringType(), True),\n",
    "    StructField(\"merchant\", StringType(), True),\n",
    "    StructField(\"category\", StringType(), True),\n",
    "    StructField(\"amt\", StringType(), True),\n",
    "    StructField(\"first\", StringType(), True),\n",
    "    StructField(\"last\", StringType(), True),\n",
    "    StructField(\"gender\", StringType(), True),\n",
    "    StructField(\"street\", StringType(), True),\n",
    "    StructField(\"city\", StringType(), True),\n",
    "    StructField(\"state\", StringType(), True),\n",
    "    StructField(\"zip\", StringType(), True),\n",
    "    StructField(\"lat\", StringType(), True),\n",
    "    StructField(\"long\", StringType(), True),\n",
    "    StructField(\"city_pop\", StringType(), True),\n",
    "    StructField(\"job\", StringType(), True),\n",
    "    StructField(\"dob\", StringType(), True),\n",
    "    StructField(\"trans_num\", StringType(), True),\n",
    "    StructField(\"unix_time\", StringType(), True),\n",
    "    StructField(\"merch_lat\", StringType(), True),\n",
    "    StructField(\"merch_long\", StringType(), True),\n",
    "    StructField(\"is_fraud\", StringType(), True),\n",
    "    StructField(\"event_time\",StringType(),True)\n",
    "])"
   ]
  },
  {
   "cell_type": "code",
   "execution_count": 77,
   "id": "7566e4e5-5260-4867-a13c-c72bb13586f4",
   "metadata": {
    "papermill": {
     "duration": 0.498336,
     "end_time": "2025-08-11T17:17:57.954867",
     "exception": false,
     "start_time": "2025-08-11T17:17:57.456531",
     "status": "completed"
    },
    "tags": []
   },
   "outputs": [],
   "source": [
    "parsed_df = value_df.select(from_json(col(\"json_str\"), schema).alias(\"data\")).select(\"data.*\")"
   ]
  },
  {
   "cell_type": "markdown",
   "id": "41a6f4e6-9046-42bd-b115-12785e9a94ed",
   "metadata": {},
   "source": [
    "# Cleaning and Transforamtion "
   ]
  },
  {
   "cell_type": "code",
   "execution_count": 78,
   "id": "b19eaada-176a-43e8-8e0e-8bb1ad716b03",
   "metadata": {
    "papermill": {
     "duration": 0.196254,
     "end_time": "2025-08-11T17:17:58.168645",
     "exception": false,
     "start_time": "2025-08-11T17:17:57.972391",
     "status": "completed"
    },
    "tags": []
   },
   "outputs": [],
   "source": [
    "parsed_df = parsed_df.withColumnRenamed(\"\", \"indx\")\n",
    "parsed_df = parsed_df.withColumn(\"indx\",sha2(concat_ws(\"||\",col(\"indx\").cast(\"string\"),col(\"event_time\").cast(\"string\")),256))"
   ]
  },
  {
   "cell_type": "code",
   "execution_count": 79,
   "id": "e96c1f1a-c849-4550-aa4c-501b5445adfe",
   "metadata": {
    "papermill": {
     "duration": 0.779364,
     "end_time": "2025-08-11T17:17:58.954427",
     "exception": false,
     "start_time": "2025-08-11T17:17:58.175063",
     "status": "completed"
    },
    "tags": []
   },
   "outputs": [],
   "source": [
    "parsed_df = parsed_df.withColumn(\"is_fraud\",col(\"is_fraud\").cast(\"int\")) \\\n",
    "                        .withColumn(\"merch_long\",col(\"merch_long\").cast(\"double\")) \\\n",
    "                        .withColumn(\"merch_lat\",col(\"merch_lat\").cast(\"double\")) \\\n",
    "                        .withColumn(\"unix_time\",col(\"unix_time\").cast(\"long\")) \\\n",
    "                        .withColumn(\"merch_long\",col(\"merch_long\").cast(\"double\")) \\\n",
    "                        .withColumn(\"city_pop\",col(\"city_pop\").cast(\"int\")) \\\n",
    "                        .withColumn(\"long\",col(\"long\").cast(\"double\")) \\\n",
    "                        .withColumn(\"lat\",col(\"lat\").cast(\"double\")) \\\n",
    "                        .withColumn(\"amt\",col(\"amt\").cast(\"double\")) \\\n",
    "                        .withColumn(\"zip\",col(\"zip\").cast(\"int\")) \\\n",
    "                        .withColumn(\"dob\", to_date(\"dob\", \"yyyy-MM-dd\")) \\\n",
    "                        .withColumn(\"trans_date_trans_time\", to_timestamp(\"trans_date_trans_time\", \"yyyy-MM-dd HH:mm:ss\")) \\\n",
    "                        .withColumn(\"event_time\", to_timestamp(\"event_time\", \"yyyy-MM-dd HH:mm:ss\"))"
   ]
  },
  {
   "cell_type": "code",
   "execution_count": 80,
   "id": "90b755f1-0cfb-4511-b14b-caa00fdceb4e",
   "metadata": {
    "papermill": {
     "duration": 0.414477,
     "end_time": "2025-08-11T17:17:59.375720",
     "exception": false,
     "start_time": "2025-08-11T17:17:58.961243",
     "status": "completed"
    },
    "tags": []
   },
   "outputs": [],
   "source": [
    "parsed_df = parsed_df.withColumn(\"age\", (datediff(current_date(), col(\"dob\")) / 365).cast(\"int\")) \\\n",
    "                     .fillna({\"age\": 0}) \\\n",
    "                     .withColumn(\"age\", abs(col(\"age\")))\n",
    "                    "
   ]
  },
  {
   "cell_type": "code",
   "execution_count": 81,
   "id": "01f4a399-55ef-4b0c-a326-52d6541430bd",
   "metadata": {
    "papermill": {
     "duration": 0.317715,
     "end_time": "2025-08-11T17:17:59.721200",
     "exception": false,
     "start_time": "2025-08-11T17:17:59.403485",
     "status": "completed"
    },
    "tags": []
   },
   "outputs": [],
   "source": [
    "parsed_df = parsed_df.fillna({\"amt\": 0}) \\\n",
    "                     .withColumn(\"amt\", abs(col(\"amt\")))\n"
   ]
  },
  {
   "cell_type": "code",
   "execution_count": 82,
   "id": "ddf48525-73f4-40bc-afe1-98293d2fc2d7",
   "metadata": {
    "papermill": {
     "duration": 0.136127,
     "end_time": "2025-08-11T17:17:59.895322",
     "exception": false,
     "start_time": "2025-08-11T17:17:59.759195",
     "status": "completed"
    },
    "tags": []
   },
   "outputs": [],
   "source": [
    "parsed_df = parsed_df.withColumn(\"merchant\", regexp_replace(\"merchant\", \"^fraud_\", \"\"))"
   ]
  },
  {
   "cell_type": "code",
   "execution_count": 83,
   "id": "46910964-cdf9-43e9-95fd-a66f3b7c17cb",
   "metadata": {
    "papermill": {
     "duration": 0.094102,
     "end_time": "2025-08-11T17:17:59.998137",
     "exception": false,
     "start_time": "2025-08-11T17:17:59.904035",
     "status": "completed"
    },
    "tags": []
   },
   "outputs": [],
   "source": [
    "parsed_df = parsed_df.withColumn(\"gender\", when(col(\"gender\") == \"M\", \"Male\").when(col(\"gender\") == \"F\", \"Female\"))"
   ]
  },
  {
   "cell_type": "code",
   "execution_count": 84,
   "id": "e26bd7d0-3884-4ec4-9212-685d85dd3c11",
   "metadata": {
    "papermill": {
     "duration": 0.407781,
     "end_time": "2025-08-11T17:18:00.417540",
     "exception": false,
     "start_time": "2025-08-11T17:18:00.009759",
     "status": "completed"
    },
    "tags": []
   },
   "outputs": [],
   "source": [
    "cols_to_trim = [\"first\", \"last\", \"job\", \"merchant\", \"category\", \"street\", \"city\", \"state\"]\n",
    "\n",
    "for c in cols_to_trim:\n",
    "    parsed_df = parsed_df.withColumn(c, trim(col(c)))"
   ]
  },
  {
   "cell_type": "code",
   "execution_count": 85,
   "id": "e851282d-14b2-4ff9-9d29-a8050ac7efb0",
   "metadata": {
    "papermill": {
     "duration": 0.022128,
     "end_time": "2025-08-11T17:18:00.448376",
     "exception": false,
     "start_time": "2025-08-11T17:18:00.426248",
     "status": "completed"
    },
    "tags": []
   },
   "outputs": [],
   "source": [
    "def haversine(lat, long, merch_lat, merch_long):\n",
    "    R = 6371.0  # Earth radius in kilometers\n",
    "\n",
    "    # Convert degrees to radians\n",
    "    lat1_rad = math.radians(lat)\n",
    "    lon1_rad = math.radians(long)\n",
    "    lat2_rad = math.radians(merch_lat)\n",
    "    lon2_rad = math.radians(merch_long)\n",
    "\n",
    "    dlat = lat2_rad - lat1_rad\n",
    "    dlon = lon2_rad - lon1_rad\n",
    "\n",
    "    a = math.sin(dlat / 2) ** 2 + \\\n",
    "        math.cos(lat1_rad) * math.cos(lat2_rad) * \\\n",
    "        math.sin(dlon / 2) ** 2\n",
    "    c = 2 * math.atan2(math.sqrt(a), math.sqrt(1 - a))\n",
    "\n",
    "    distance = R * c\n",
    "    return distance\n"
   ]
  },
  {
   "cell_type": "code",
   "execution_count": 86,
   "id": "fb51fb1b-c9cb-468f-9b3d-188a83e51b2a",
   "metadata": {
    "papermill": {
     "duration": 0.125801,
     "end_time": "2025-08-11T17:18:00.578104",
     "exception": false,
     "start_time": "2025-08-11T17:18:00.452303",
     "status": "completed"
    },
    "tags": []
   },
   "outputs": [],
   "source": [
    "haversine_udf = udf(haversine, DoubleType())\n",
    "parsed_df = parsed_df.withColumn(\"distance_km\",haversine_udf(\"lat\",\"long\",\"merch_lat\",\"merch_long\"))"
   ]
  },
  {
   "cell_type": "code",
   "execution_count": 87,
   "id": "e999fb9e-3a8b-4e20-b7c4-085afcec205d",
   "metadata": {
    "papermill": {
     "duration": 0.118423,
     "end_time": "2025-08-11T17:18:00.700641",
     "exception": false,
     "start_time": "2025-08-11T17:18:00.582218",
     "status": "completed"
    },
    "tags": []
   },
   "outputs": [],
   "source": [
    "parsed_df = parsed_df \\\n",
    ".withColumn(\"merchant_id\", sha2(concat_ws(\"||\", col(\"merchant\")), 256)) \\\n",
    ".withColumn(\"customer_id\", sha2(concat_ws(\"||\", col(\"first\"), col(\"last\"), col(\"dob\").cast(\"string\")), 256))\n",
    "                        "
   ]
  },
  {
   "cell_type": "code",
   "execution_count": 88,
   "id": "7f148d44-ee93-472d-a090-0906bc7fb137",
   "metadata": {
    "papermill": {
     "duration": 0.04202,
     "end_time": "2025-08-11T17:18:00.757284",
     "exception": false,
     "start_time": "2025-08-11T17:18:00.715264",
     "status": "completed"
    },
    "tags": []
   },
   "outputs": [],
   "source": [
    "cleand_transformed_df = parsed_df"
   ]
  },
  {
   "cell_type": "code",
   "execution_count": 89,
   "id": "59d267a0-3345-438f-805f-1af9d8af2d80",
   "metadata": {
    "papermill": {
     "duration": 0.048345,
     "end_time": "2025-08-11T17:18:00.823107",
     "exception": false,
     "start_time": "2025-08-11T17:18:00.774762",
     "status": "completed"
    },
    "tags": []
   },
   "outputs": [
    {
     "name": "stdout",
     "output_type": "stream",
     "text": [
      "root\n",
      " |-- indx: string (nullable = true)\n",
      " |-- trans_date_trans_time: timestamp (nullable = true)\n",
      " |-- cc_num: string (nullable = true)\n",
      " |-- merchant: string (nullable = true)\n",
      " |-- category: string (nullable = true)\n",
      " |-- amt: double (nullable = false)\n",
      " |-- first: string (nullable = true)\n",
      " |-- last: string (nullable = true)\n",
      " |-- gender: string (nullable = true)\n",
      " |-- street: string (nullable = true)\n",
      " |-- city: string (nullable = true)\n",
      " |-- state: string (nullable = true)\n",
      " |-- zip: integer (nullable = true)\n",
      " |-- lat: double (nullable = true)\n",
      " |-- long: double (nullable = true)\n",
      " |-- city_pop: integer (nullable = true)\n",
      " |-- job: string (nullable = true)\n",
      " |-- dob: date (nullable = true)\n",
      " |-- trans_num: string (nullable = true)\n",
      " |-- unix_time: long (nullable = true)\n",
      " |-- merch_lat: double (nullable = true)\n",
      " |-- merch_long: double (nullable = true)\n",
      " |-- is_fraud: integer (nullable = true)\n",
      " |-- event_time: timestamp (nullable = true)\n",
      " |-- age: integer (nullable = false)\n",
      " |-- distance_km: double (nullable = true)\n",
      " |-- merchant_id: string (nullable = true)\n",
      " |-- customer_id: string (nullable = true)\n",
      "\n"
     ]
    }
   ],
   "source": [
    "cleand_transformed_df.printSchema()"
   ]
  },
  {
   "cell_type": "markdown",
   "id": "62f39a6e-5411-4ddd-af87-90c9d6ca55e3",
   "metadata": {},
   "source": [
    "# Predection"
   ]
  },
  {
   "cell_type": "code",
   "execution_count": 95,
   "id": "4c01c661-0dbd-4fbd-9fc0-8a25e1d14969",
   "metadata": {},
   "outputs": [],
   "source": [
    "# Select the wanted columns\n",
    "df = cleand_transformed_df.select(col('cc_num'),col('merchant'),col('category'),col('amt'),col('first'),\n",
    "                                  col('last'),col('gender'),col('street'),col('city'),col('state'),col('zip')\n",
    "                                  ,col('city_pop'),col('job'),col('age'),col('distance_km'))\n",
    "\n"
   ]
  },
  {
   "cell_type": "markdown",
   "id": "f36169ba-a77c-40bc-b90d-94ac67f7362f",
   "metadata": {},
   "source": [
    "# Loading"
   ]
  },
  {
   "cell_type": "code",
   "execution_count": 20,
   "id": "6e7cc501-08a0-49b2-9a89-40cdae88b2d3",
   "metadata": {
    "execution": {
     "iopub.execute_input": "2025-08-11T17:18:00.855073Z",
     "iopub.status.busy": "2025-08-11T17:18:00.854816Z",
     "iopub.status.idle": "2025-08-11T17:18:00.867899Z",
     "shell.execute_reply": "2025-08-11T17:18:00.864672Z"
    },
    "papermill": {
     "duration": 0.039869,
     "end_time": "2025-08-11T17:18:00.877247",
     "exception": false,
     "start_time": "2025-08-11T17:18:00.837378",
     "status": "completed"
    },
    "tags": []
   },
   "outputs": [],
   "source": [
    "def write_to_postgres(batch_df, batch_id):\n",
    "    batch_df.write \\\n",
    "        .format(\"jdbc\") \\\n",
    "        .option(\"url\", \"jdbc:postgresql://postgres_v2:5432/sparkdb\") \\\n",
    "        .option(\"dbtable\", \"transactions\") \\\n",
    "        .option(\"user\", \"spark\") \\\n",
    "        .option(\"password\", \"spark\") \\\n",
    "        .option(\"driver\", \"org.postgresql.Driver\") \\\n",
    "        .mode(\"append\") \\\n",
    "        .save()"
   ]
  },
  {
   "cell_type": "code",
   "execution_count": null,
   "id": "266b02a5-10fe-4134-ba33-d8a5997517b4",
   "metadata": {
    "execution": {
     "iopub.execute_input": "2025-08-11T17:15:08.690007Z",
     "iopub.status.busy": "2025-08-11T17:15:08.689863Z",
     "iopub.status.idle": "2025-08-11T17:15:12.853196Z",
     "shell.execute_reply": "2025-08-11T17:15:12.852382Z"
    },
    "papermill": {
     "duration": null,
     "end_time": null,
     "exception": false,
     "start_time": "2025-08-11T17:18:00.888151",
     "status": "running"
    },
    "tags": []
   },
   "outputs": [],
   "source": [
    "stream = cleand_transformed_df.writeStream \\\n",
    "    .foreachBatch(write_to_postgres) \\\n",
    "    .outputMode(\"append\") \\\n",
    "    .start()\n",
    "try:\n",
    "    stream.awaitTermination()\n",
    "except KeyboardInterrupt:\n",
    "    print(\"Gracefully stopping the stream...\")\n",
    "    stream.stop()"
   ]
  },
  {
   "cell_type": "code",
   "execution_count": null,
   "id": "4e1fc7ad-a047-432a-9f48-270a4f77c3f5",
   "metadata": {
    "papermill": {
     "duration": null,
     "end_time": null,
     "exception": null,
     "start_time": null,
     "status": "pending"
    },
    "tags": []
   },
   "outputs": [],
   "source": [
    "# stream = cleand_transformed_df.writeStream \\\n",
    "#                 .format(\"console\") \\\n",
    "#                 .outputMode(\"append\") \n",
    "#                 # .option(\"checkpointLocation\", \"checkpoint_dir_kafka\")\n",
    "#                 # .trigger(processingTime=\"20 seconds\")\n",
    "# qu = stream.start()\n",
    "# qu.stop()"
   ]
  }
 ],
 "metadata": {
  "kernelspec": {
   "display_name": "Python 3 (ipykernel)",
   "language": "python",
   "name": "python3"
  },
  "language_info": {
   "codemirror_mode": {
    "name": "ipython",
    "version": 3
   },
   "file_extension": ".py",
   "mimetype": "text/x-python",
   "name": "python",
   "nbconvert_exporter": "python",
   "pygments_lexer": "ipython3",
   "version": "3.11.6"
  },
  "papermill": {
   "default_parameters": {},
   "duration": null,
   "end_time": null,
   "environment_variables": {},
   "exception": null,
   "input_path": "/home/jovyan/work/Spark-Streaming/Cleaning_Treansformations.ipynb",
   "output_path": "/home/jovyan/work/Spark-Streaming/Cleaning_Treansformations.ipynb",
   "parameters": {},
   "start_time": "2025-08-11T17:17:38.634638",
   "version": "2.6.0"
  }
 },
 "nbformat": 4,
 "nbformat_minor": 5
}
